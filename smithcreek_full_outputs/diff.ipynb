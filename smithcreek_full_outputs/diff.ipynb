{
 "metadata": {
  "language_info": {
   "codemirror_mode": {
    "name": "ipython",
    "version": 3
   },
   "file_extension": ".py",
   "mimetype": "text/x-python",
   "name": "python",
   "nbconvert_exporter": "python",
   "pygments_lexer": "ipython3",
   "version": "3.7.6-final"
  },
  "orig_nbformat": 2,
  "kernelspec": {
   "name": "python37664bitenvvenv4d20305db64b4c4199736140fb91362a",
   "display_name": "Python 3.7.6 64-bit ('env': venv)"
  }
 },
 "nbformat": 4,
 "nbformat_minor": 2,
 "cells": [
  {
   "cell_type": "code",
   "execution_count": 1,
   "metadata": {},
   "outputs": [
    {
     "output_type": "stream",
     "name": "stdout",
     "text": [
      "Ubuntu output shape:  (473328, 6)\n",
      "Legacy output shape:  (71736, 6)\n",
      "Ubuntu output shape:  (71736, 6)\n",
      "Merged shape: (71736, 11)\n",
      "<class 'pandas.core.frame.DataFrame'>\n",
      "Int64Index: 71736 entries, 0 to 71735\n",
      "Data columns (total 11 columns):\n",
      " #   Column             Non-Null Count  Dtype  \n",
      "---  ------             --------------  -----  \n",
      " 0   time               71736 non-null  float64\n",
      " 1   WS_outflow@F(1)_x  71736 non-null  float64\n",
      " 2   WS_outflow@F(2)_x  71736 non-null  float64\n",
      " 3   WS_outflow@F(3)_x  71736 non-null  float64\n",
      " 4   WS_outflow@F(4)_x  71736 non-null  float64\n",
      " 5   WS_outflow@F(5)_x  71736 non-null  float64\n",
      " 6   WS_outflow@F(1)_y  71736 non-null  float64\n",
      " 7   WS_outflow@F(2)_y  71736 non-null  float64\n",
      " 8   WS_outflow@F(3)_y  71736 non-null  float64\n",
      " 9   WS_outflow@F(4)_y  71736 non-null  float64\n",
      " 10  WS_outflow@F(5)_y  71736 non-null  float64\n",
      "dtypes: float64(11)\n",
      "memory usage: 6.6 MB\n",
      "None\n"
     ]
    }
   ],
   "source": [
    "import pandas as pd\n",
    "import numpy as np\n",
    "\n",
    "#Read Ubuntu output file\n",
    "df_u = pd.read_csv(\"Ubuntu_export.csv\")\n",
    "print(\"Ubuntu output shape: \",df_u.shape)\n",
    "\n",
    "#Read legacy output file\n",
    "df_l = pd.read_csv(\"Legacy_full_export.csv\")\n",
    "print(\"Legacy output shape: \", df_l.shape)\n",
    "\n",
    "# Temperory: get top records of Ubuntu as legacy file is not completed\n",
    "df_u = df_u.head(df_l.shape[0])\n",
    "print(\"Ubuntu output shape: \",df_u.shape)\n",
    "\n",
    "# Join based on time\n",
    "df = df_u.merge(df_l, on='time')\n",
    "print('Merged shape:',df.shape)\n",
    "#df.to_csv(\"merged.csv\")\n",
    "print(df.info())"
   ]
  },
  {
   "cell_type": "code",
   "execution_count": 2,
   "metadata": {},
   "outputs": [
    {
     "output_type": "stream",
     "name": "stdout",
     "text": [
      "Count of rows with different signs for WS_outflow@F(1):  58\nCount of rows with different signs for WS_outflow@F(2):  25\nCount of rows with different signs for WS_outflow@F(3):  0\nCount of rows with different signs for WS_outflow@F(4):  0\nCount of rows with different signs for WS_outflow@F(5):  0\n"
     ]
    }
   ],
   "source": [
    "# Find rows where sign of the numbers are different\n",
    "print('Count of rows with different signs for WS_outflow@F(1): ',df[(df['WS_outflow@F(1)_x'] > 0) & (df['WS_outflow@F(1)_y'] < 0)].count()[0])\n",
    "\n",
    "print('Count of rows with different signs for WS_outflow@F(2): ',df[(df['WS_outflow@F(2)_x'] > 0) & (df['WS_outflow@F(2)_y'] < 0)].count()[0])\n",
    "\n",
    "print('Count of rows with different signs for WS_outflow@F(3): ',df[(df['WS_outflow@F(3)_x'] > 0) & (df['WS_outflow@F(3)_y'] < 0)].count()[0])\n",
    "\n",
    "print('Count of rows with different signs for WS_outflow@F(4): ',df[(df['WS_outflow@F(4)_x'] > 0) & (df['WS_outflow@F(4)_y'] < 0)].count()[0])\n",
    "\n",
    "print('Count of rows with different signs for WS_outflow@F(5): ',df[(df['WS_outflow@F(5)_x'] > 0) & (df['WS_outflow@F(5)_y'] < 0)].count()[0])\n"
   ]
  },
  {
   "cell_type": "code",
   "execution_count": 3,
   "metadata": {},
   "outputs": [],
   "source": [
    "# Calculate difference of absolute values\n",
    "df['diff_1'] = (df['WS_outflow@F(1)_x'].abs() - df['WS_outflow@F(1)_y'].abs()).abs()\n",
    "df['diff_2'] = (df['WS_outflow@F(2)_x'].abs() - df['WS_outflow@F(2)_y'].abs()).abs()\n",
    "df['diff_3'] = (df['WS_outflow@F(3)_x'].abs() - df['WS_outflow@F(3)_y'].abs()).abs()\n",
    "df['diff_4'] = (df['WS_outflow@F(4)_x'].abs() - df['WS_outflow@F(4)_y'].abs()).abs()\n",
    "df['diff_5'] = (df['WS_outflow@F(5)_x'].abs() - df['WS_outflow@F(5)_y'].abs()).abs()"
   ]
  },
  {
   "cell_type": "code",
   "execution_count": 4,
   "metadata": {},
   "outputs": [
    {
     "output_type": "stream",
     "name": "stdout",
     "text": [
      "Out of 71736 rows 2451 are exactly the same.\n"
     ]
    }
   ],
   "source": [
    "\n",
    "print('Out of',df.count()[0], 'rows',(df[df['diff_3'] == 0].count()[0]), 'are exactly the same.')"
   ]
  },
  {
   "cell_type": "code",
   "execution_count": 5,
   "metadata": {},
   "outputs": [
    {
     "output_type": "stream",
     "name": "stdout",
     "text": [
      "----------- diff_1 --------------\n",
      "2127 rows are 0\n",
      "3974 rows are greater than 0 and less than 1\n",
      "8389 rows are greater than 1 and less than 10\n",
      "9890 rows are greater than 10 and less than 100\n",
      "16366 rows are greater than 100 and less than 500\n",
      "9099 rows are greater than 500 and less than 1000\n",
      "15497 rows are greater than 1000 and less than 5000\n",
      "3135 rows are greater than 5000 and less than 10000\n",
      "2207 rows are greater than 10000 and less than 25000\n",
      "719 rows are greater than 25000 and less than 50000\n",
      "176 rows are greater than 50000 and less than 100000\n",
      "157 rows are greater than 100000 and less than 1000000\n",
      "0 rows are greater than 1000000 and less than 10000000\n",
      "----------- diff_2 --------------\n",
      "41 rows are 0\n",
      "41613 rows are greater than 0 and less than 1\n",
      "5949 rows are greater than 1 and less than 10\n",
      "6548 rows are greater than 10 and less than 100\n",
      "6382 rows are greater than 100 and less than 500\n",
      "4148 rows are greater than 500 and less than 1000\n",
      "5886 rows are greater than 1000 and less than 5000\n",
      "677 rows are greater than 5000 and less than 10000\n",
      "255 rows are greater than 10000 and less than 25000\n",
      "167 rows are greater than 25000 and less than 50000\n",
      "70 rows are greater than 50000 and less than 100000\n",
      "0 rows are greater than 100000 and less than 1000000\n",
      "0 rows are greater than 1000000 and less than 10000000\n",
      "----------- diff_3 --------------\n",
      "2451 rows are 0\n",
      "3068 rows are greater than 0 and less than 1\n",
      "6995 rows are greater than 1 and less than 10\n",
      "10122 rows are greater than 10 and less than 100\n",
      "15801 rows are greater than 100 and less than 500\n",
      "8763 rows are greater than 500 and less than 1000\n",
      "16269 rows are greater than 1000 and less than 5000\n",
      "3777 rows are greater than 5000 and less than 10000\n",
      "3055 rows are greater than 10000 and less than 25000\n",
      "968 rows are greater than 25000 and less than 50000\n",
      "227 rows are greater than 50000 and less than 100000\n",
      "240 rows are greater than 100000 and less than 1000000\n",
      "0 rows are greater than 1000000 and less than 10000000\n",
      "----------- diff_4 --------------\n",
      "34867 rows are 0\n",
      "12635 rows are greater than 0 and less than 1\n",
      "5873 rows are greater than 1 and less than 10\n",
      "8178 rows are greater than 10 and less than 100\n",
      "5030 rows are greater than 100 and less than 500\n",
      "1792 rows are greater than 500 and less than 1000\n",
      "2720 rows are greater than 1000 and less than 5000\n",
      "362 rows are greater than 5000 and less than 10000\n",
      "195 rows are greater than 10000 and less than 25000\n",
      "84 rows are greater than 25000 and less than 50000\n",
      "0 rows are greater than 50000 and less than 100000\n",
      "0 rows are greater than 100000 and less than 1000000\n",
      "0 rows are greater than 1000000 and less than 10000000\n",
      "----------- diff_5 --------------\n",
      "52 rows are 0\n",
      "5443 rows are greater than 0 and less than 1\n",
      "6869 rows are greater than 1 and less than 10\n",
      "10062 rows are greater than 10 and less than 100\n",
      "15719 rows are greater than 100 and less than 500\n",
      "8746 rows are greater than 500 and less than 1000\n",
      "16027 rows are greater than 1000 and less than 5000\n",
      "3884 rows are greater than 5000 and less than 10000\n",
      "3187 rows are greater than 10000 and less than 25000\n",
      "1156 rows are greater than 25000 and less than 50000\n",
      "334 rows are greater than 50000 and less than 100000\n",
      "257 rows are greater than 100000 and less than 1000000\n",
      "0 rows are greater than 1000000 and less than 10000000\n"
     ]
    }
   ],
   "source": [
    "columns = ['diff_1','diff_2','diff_3','diff_4','diff_5']\n",
    "intervals = [0,1,10,100,500,1000,5000,10000,25000,50000,100000,1000000,10000000]\n",
    "for c in columns:\n",
    "    print('-----------',c,'--------------')\n",
    "    print(df[df[c] == 0].count()[0], 'rows are 0')\n",
    "    for i in range(len(intervals)-1):\n",
    "        print((df[(df[c] <= intervals[i+1]) & (df[c] > intervals[i]) ].count()[0]),\n",
    "        'rows are greater than', intervals[i], 'and less than', intervals[i+1])\n",
    "    "
   ]
  },
  {
   "cell_type": "code",
   "execution_count": 6,
   "metadata": {},
   "outputs": [
    {
     "output_type": "execute_result",
     "data": {
      "text/plain": [
       "              time  WS_outflow@F(1)_x  WS_outflow@F(2)_x  WS_outflow@F(3)_x  \\\n",
       "40968  21370.04167           208664.5           63452.31           278441.0   \n",
       "\n",
       "       WS_outflow@F(4)_x  WS_outflow@F(5)_x  WS_outflow@F(1)_y  \\\n",
       "40968           27104.52           315304.3           0.000054   \n",
       "\n",
       "       WS_outflow@F(2)_y  WS_outflow@F(3)_y  WS_outflow@F(4)_y  \\\n",
       "40968           0.000334           0.001399           0.000429   \n",
       "\n",
       "       WS_outflow@F(5)_y         diff_1        diff_2       diff_3  \\\n",
       "40968           0.002083  208664.499946  63452.309666  278440.9986   \n",
       "\n",
       "             diff_4         diff_5  \n",
       "40968  27104.519571  315304.297917  "
      ],
      "text/html": "<div>\n<style scoped>\n    .dataframe tbody tr th:only-of-type {\n        vertical-align: middle;\n    }\n\n    .dataframe tbody tr th {\n        vertical-align: top;\n    }\n\n    .dataframe thead th {\n        text-align: right;\n    }\n</style>\n<table border=\"1\" class=\"dataframe\">\n  <thead>\n    <tr style=\"text-align: right;\">\n      <th></th>\n      <th>time</th>\n      <th>WS_outflow@F(1)_x</th>\n      <th>WS_outflow@F(2)_x</th>\n      <th>WS_outflow@F(3)_x</th>\n      <th>WS_outflow@F(4)_x</th>\n      <th>WS_outflow@F(5)_x</th>\n      <th>WS_outflow@F(1)_y</th>\n      <th>WS_outflow@F(2)_y</th>\n      <th>WS_outflow@F(3)_y</th>\n      <th>WS_outflow@F(4)_y</th>\n      <th>WS_outflow@F(5)_y</th>\n      <th>diff_1</th>\n      <th>diff_2</th>\n      <th>diff_3</th>\n      <th>diff_4</th>\n      <th>diff_5</th>\n    </tr>\n  </thead>\n  <tbody>\n    <tr>\n      <th>40968</th>\n      <td>21370.04167</td>\n      <td>208664.5</td>\n      <td>63452.31</td>\n      <td>278441.0</td>\n      <td>27104.52</td>\n      <td>315304.3</td>\n      <td>0.000054</td>\n      <td>0.000334</td>\n      <td>0.001399</td>\n      <td>0.000429</td>\n      <td>0.002083</td>\n      <td>208664.499946</td>\n      <td>63452.309666</td>\n      <td>278440.9986</td>\n      <td>27104.519571</td>\n      <td>315304.297917</td>\n    </tr>\n  </tbody>\n</table>\n</div>"
     },
     "metadata": {},
     "execution_count": 6
    }
   ],
   "source": [
    "df[ df['diff_3'] == df['diff_3'].max()]"
   ]
  },
  {
   "cell_type": "code",
   "execution_count": null,
   "metadata": {},
   "outputs": [],
   "source": []
  }
 ]
}